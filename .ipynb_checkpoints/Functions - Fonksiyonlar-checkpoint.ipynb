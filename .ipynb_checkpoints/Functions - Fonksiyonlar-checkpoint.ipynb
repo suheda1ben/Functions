{
 "cells": [
  {
   "cell_type": "code",
   "execution_count": 2,
   "id": "f5a11091",
   "metadata": {},
   "outputs": [],
   "source": [
    "def myFunctions(isim):      #fonksiyonlar bizden bir parametre bekler.\n",
    "    print(\"Adiniz :\" + isim)"
   ]
  },
  {
   "cell_type": "code",
   "execution_count": 4,
   "id": "3dbbc660",
   "metadata": {},
   "outputs": [
    {
     "name": "stdout",
     "output_type": "stream",
     "text": [
      "Adiniz :yasemin\n"
     ]
    }
   ],
   "source": [
    "myFunctions(\"yasemin\")"
   ]
  },
  {
   "cell_type": "code",
   "execution_count": 10,
   "id": "a5a41e8a",
   "metadata": {},
   "outputs": [],
   "source": [
    "def fonksiyonlarim(isim,soyad):\n",
    "    print(\"Adiniz:\"+isim+\" \"+soyad)"
   ]
  },
  {
   "cell_type": "code",
   "execution_count": 11,
   "id": "3d41dd62",
   "metadata": {},
   "outputs": [
    {
     "name": "stdout",
     "output_type": "stream",
     "text": [
      "Adiniz:suheda birben\n"
     ]
    }
   ],
   "source": [
    "fonksiyonlarim(\"suheda\",\"birben\")"
   ]
  },
  {
   "cell_type": "code",
   "execution_count": 12,
   "id": "fae6a92c",
   "metadata": {},
   "outputs": [],
   "source": [
    "def fonksiyonlar(*cocuklar):  #degisken sayili parametre alir\n",
    "    print(\"en zeki cocuk\"+\" \" +cocuklar[1])"
   ]
  },
  {
   "cell_type": "code",
   "execution_count": 14,
   "id": "ac9bb02e",
   "metadata": {},
   "outputs": [
    {
     "name": "stdout",
     "output_type": "stream",
     "text": [
      "en zeki cocuk mert\n"
     ]
    }
   ],
   "source": [
    "fonksiyonlar(\"yagmur\",\"mert\",\"derin\")"
   ]
  },
  {
   "cell_type": "code",
   "execution_count": 15,
   "id": "5f0e6f92",
   "metadata": {},
   "outputs": [],
   "source": [
    "# Toplama işlemini yapan fonskyion "
   ]
  },
  {
   "cell_type": "code",
   "execution_count": 21,
   "id": "9fae9d85",
   "metadata": {},
   "outputs": [],
   "source": [
    "def toplama(sayi1,sayi2,sayi3):\n",
    "    print(\"SONUC: \"+str(sayi1+sayi2+sayi3))"
   ]
  },
  {
   "cell_type": "code",
   "execution_count": 22,
   "id": "5d09ec75",
   "metadata": {},
   "outputs": [
    {
     "name": "stdout",
     "output_type": "stream",
     "text": [
      "SONUC: 30\n"
     ]
    }
   ],
   "source": [
    "toplama(5,10,15)"
   ]
  },
  {
   "cell_type": "code",
   "execution_count": 23,
   "id": "c3fc0558",
   "metadata": {},
   "outputs": [],
   "source": [
    "def carpma(sayi1,sayi2):\n",
    "    print(\"Sonuc:\"+str(sayi1*sayi2))"
   ]
  },
  {
   "cell_type": "code",
   "execution_count": 24,
   "id": "969edc21",
   "metadata": {},
   "outputs": [
    {
     "name": "stdout",
     "output_type": "stream",
     "text": [
      "Sonuc:300\n"
     ]
    }
   ],
   "source": [
    "carpma(20,15)"
   ]
  },
  {
   "cell_type": "code",
   "execution_count": 25,
   "id": "ded975ea",
   "metadata": {},
   "outputs": [],
   "source": [
    "# İsteğe bağlı parametre alan fonksiyonlar"
   ]
  },
  {
   "cell_type": "code",
   "execution_count": 33,
   "id": "5f473451",
   "metadata": {},
   "outputs": [],
   "source": [
    "def fonksiyon1(**cocuk):\n",
    "    print(\"Adınız Soyadınız : \"+cocuk[\"ad\"]+\" \"+cocuk[\"soyad\"])"
   ]
  },
  {
   "cell_type": "code",
   "execution_count": 34,
   "id": "d186c3c2",
   "metadata": {},
   "outputs": [
    {
     "name": "stdout",
     "output_type": "stream",
     "text": [
      "Adınız Soyadınız : Hazel Blades\n"
     ]
    }
   ],
   "source": [
    "fonksiyon1(ad=\"Hazel\",soyad=\"Blades\")"
   ]
  },
  {
   "cell_type": "code",
   "execution_count": null,
   "id": "c43b3ff2",
   "metadata": {},
   "outputs": [],
   "source": []
  }
 ],
 "metadata": {
  "kernelspec": {
   "display_name": "Python 3 (ipykernel)",
   "language": "python",
   "name": "python3"
  },
  "language_info": {
   "codemirror_mode": {
    "name": "ipython",
    "version": 3
   },
   "file_extension": ".py",
   "mimetype": "text/x-python",
   "name": "python",
   "nbconvert_exporter": "python",
   "pygments_lexer": "ipython3",
   "version": "3.9.12"
  }
 },
 "nbformat": 4,
 "nbformat_minor": 5
}
